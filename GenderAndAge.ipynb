{
  "cells": [
    {
      "cell_type": "markdown",
      "metadata": {
        "id": "6lmKjwRTZoPJ"
      },
      "source": [
        "#PROJECT ON AGE AND GENDER DETECTION"
      ]
    },
    {
      "cell_type": "code",
      "execution_count": 1,
      "metadata": {
        "id": "7qjk0llrRacN"
      },
      "outputs": [
        {
          "ename": "KeyboardInterrupt",
          "evalue": "",
          "output_type": "error",
          "traceback": [
            "\u001b[31m---------------------------------------------------------------------------\u001b[39m",
            "\u001b[31mKeyboardInterrupt\u001b[39m                         Traceback (most recent call last)",
            "\u001b[36mCell\u001b[39m\u001b[36m \u001b[39m\u001b[32mIn[1]\u001b[39m\u001b[32m, line 53\u001b[39m\n\u001b[32m     50\u001b[39m blob = cv2.dnn.blobFromImage(face, \u001b[32m1.0\u001b[39m, (\u001b[32m227\u001b[39m, \u001b[32m227\u001b[39m), MODEL_MEAN_VALUES, swapRB=\u001b[38;5;28;01mFalse\u001b[39;00m)\n\u001b[32m     52\u001b[39m gender_net.setInput(blob)\n\u001b[32m---> \u001b[39m\u001b[32m53\u001b[39m gender_preds = \u001b[43mgender_net\u001b[49m\u001b[43m.\u001b[49m\u001b[43mforward\u001b[49m\u001b[43m(\u001b[49m\u001b[43m)\u001b[49m\n\u001b[32m     54\u001b[39m gender = gender_list[gender_preds[\u001b[32m0\u001b[39m].argmax()]\n\u001b[32m     56\u001b[39m age_net.setInput(blob)\n",
            "\u001b[31mKeyboardInterrupt\u001b[39m: "
          ]
        }
      ],
      "source": [
        "import cv2\n",
        "\n",
        "# Load models\n",
        "face_net = cv2.dnn.readNet('opencv_face_detector_uint8.pb', 'opencv_face_detector.pbtxt')\n",
        "age_net = cv2.dnn.readNet('age_net.caffemodel', 'age_deploy.prototxt')\n",
        "gender_net = cv2.dnn.readNet('gender_net.caffemodel', 'gender_deploy.prototxt')\n",
        "\n",
        "MODEL_MEAN_VALUES = (78.4263377603, 87.7689143744, 114.895847746)\n",
        "age_list = ['(0-2)', '(4-6)', '(8-12)', '(15-20)', '(25-32)', '(38-43)', '(48-53)', '(60-100)']\n",
        "gender_list = ['Male', 'Female']\n",
        "\n",
        "# Start video capture\n",
        "video = cv2.VideoCapture(0)\n",
        "\n",
        "while True:\n",
        "    ret, frame = video.read()\n",
        "    if not ret:\n",
        "        break\n",
        "        \n",
        "    # Get frame dimensions\n",
        "    fr_h = frame.shape[0]\n",
        "    fr_w = frame.shape[1]\n",
        "    \n",
        "    # Create a blob and detect faces\n",
        "    blob = cv2.dnn.blobFromImage(frame, 1.0, (300, 300), [104, 117, 123], True, False)\n",
        "    face_net.setInput(blob)\n",
        "    detections = face_net.forward()\n",
        "    \n",
        "    faceBoxes = []\n",
        "    \n",
        "    # Process detections\n",
        "    for i in range(detections.shape[2]):\n",
        "        confidence = detections[0, 0, i, 2]\n",
        "        if confidence > 0.7:\n",
        "            x1 = int(detections[0, 0, i, 3]*fr_w)\n",
        "            y1 = int(detections[0, 0, i, 4]*fr_h)\n",
        "            x2 = int(detections[0, 0, i, 5]*fr_w)\n",
        "            y2 = int(detections[0, 0, i, 6]*fr_h)\n",
        "            \n",
        "            faceBoxes.append([x1, y1, x2, y2])\n",
        "            \n",
        "            # Draw rectangle around face\n",
        "            cv2.rectangle(frame, (x1, y1), (x2, y2), (0, 255, 0), 2)\n",
        "            \n",
        "            # Get face region\n",
        "            face = frame[max(0, y1):min(y2, frame.shape[0]-1),\n",
        "                        max(0, x1):min(x2, frame.shape[1]-1)]\n",
        "            \n",
        "            # Predict gender and age\n",
        "            blob = cv2.dnn.blobFromImage(face, 1.0, (227, 227), MODEL_MEAN_VALUES, swapRB=False)\n",
        "            \n",
        "            gender_net.setInput(blob)\n",
        "            gender_preds = gender_net.forward()\n",
        "            gender = gender_list[gender_preds[0].argmax()]\n",
        "            \n",
        "            age_net.setInput(blob)\n",
        "            age_preds = age_net.forward()\n",
        "            age = age_list[age_preds[0].argmax()]\n",
        "            \n",
        "            # Put text\n",
        "            label = f\"{gender}, {age}\"\n",
        "            cv2.putText(frame, label, (x1, y1-10), cv2.FONT_HERSHEY_SIMPLEX, 0.8, (0, 255, 255), 2, cv2.LINE_AA)\n",
        "    \n",
        "    # Display the frame\n",
        "    cv2.imshow(\"Age-Gender Detection\", frame)\n",
        "    \n",
        "    # Break loop on 'q' press\n",
        "    if cv2.waitKey(1) & 0xFF == ord('q'):\n",
        "        break\n",
        "\n",
        "# Clean up\n",
        "video.release()\n",
        "cv2.destroyAllWindows()"
      ]
    },
    {
      "cell_type": "code",
      "execution_count": null,
      "metadata": {},
      "outputs": [],
      "source": []
    }
  ],
  "metadata": {
    "colab": {
      "private_outputs": true,
      "provenance": []
    },
    "kernelspec": {
      "display_name": "Python 3",
      "name": "python3"
    },
    "language_info": {
      "codemirror_mode": {
        "name": "ipython",
        "version": 3
      },
      "file_extension": ".py",
      "mimetype": "text/x-python",
      "name": "python",
      "nbconvert_exporter": "python",
      "pygments_lexer": "ipython3",
      "version": "3.13.1"
    }
  },
  "nbformat": 4,
  "nbformat_minor": 0
}
